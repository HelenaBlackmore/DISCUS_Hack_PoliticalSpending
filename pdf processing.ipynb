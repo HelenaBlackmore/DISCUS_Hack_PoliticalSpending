{
 "cells": [
  {
   "cell_type": "markdown",
   "id": "761dd6f4",
   "metadata": {},
   "source": [
    "# pdf to df"
   ]
  },
  {
   "cell_type": "code",
   "execution_count": 2,
   "id": "a2ddf79a",
   "metadata": {
    "collapsed": true
   },
   "outputs": [
    {
     "name": "stdout",
     "output_type": "stream",
     "text": [
      "Collecting PyPDF2\n",
      "  Downloading PyPDF2-2.7.0-py3-none-any.whl (202 kB)\n",
      "Requirement already satisfied: typing-extensions in c:\\users\\helena\\anaconda3\\lib\\site-packages (from PyPDF2) (3.7.4.3)\n",
      "Installing collected packages: PyPDF2\n",
      "Successfully installed PyPDF2-2.7.0\n"
     ]
    }
   ],
   "source": [
    "!pip install PyPDF2"
   ]
  },
  {
   "cell_type": "code",
   "execution_count": 9,
   "id": "3c1da245",
   "metadata": {
    "collapsed": true
   },
   "outputs": [
    {
     "name": "stdout",
     "output_type": "stream",
     "text": [
      "Collecting pdfplumber\n",
      "  Downloading pdfplumber-0.7.4-py3-none-any.whl (40 kB)\n",
      "Collecting Wand>=0.6.7\n",
      "  Downloading Wand-0.6.8-py2.py3-none-any.whl (142 kB)\n",
      "Collecting Pillow>=9.1\n",
      "  Downloading Pillow-9.2.0-cp38-cp38-win_amd64.whl (3.3 MB)\n",
      "Collecting pdfminer.six==20220524\n",
      "  Downloading pdfminer.six-20220524-py3-none-any.whl (5.6 MB)\n",
      "Collecting cryptography>=36.0.0\n",
      "  Downloading cryptography-37.0.4-cp36-abi3-win_amd64.whl (2.4 MB)\n",
      "Requirement already satisfied: charset-normalizer>=2.0.0 in c:\\users\\helena\\anaconda3\\lib\\site-packages (from pdfminer.six==20220524->pdfplumber) (2.0.12)\n",
      "Requirement already satisfied: cffi>=1.12 in c:\\users\\helena\\anaconda3\\lib\\site-packages (from cryptography>=36.0.0->pdfminer.six==20220524->pdfplumber) (1.14.5)\n",
      "Requirement already satisfied: pycparser in c:\\users\\helena\\anaconda3\\lib\\site-packages (from cffi>=1.12->cryptography>=36.0.0->pdfminer.six==20220524->pdfplumber) (2.20)\n",
      "Installing collected packages: cryptography, Wand, Pillow, pdfminer.six, pdfplumber\n",
      "  Attempting uninstall: cryptography\n",
      "    Found existing installation: cryptography 3.4.7\n",
      "    Uninstalling cryptography-3.4.7:\n",
      "      Successfully uninstalled cryptography-3.4.7\n",
      "  Attempting uninstall: Pillow\n",
      "    Found existing installation: Pillow 8.2.0\n",
      "    Uninstalling Pillow-8.2.0:\n",
      "      Successfully uninstalled Pillow-8.2.0\n",
      "Successfully installed Pillow-9.2.0 Wand-0.6.8 cryptography-37.0.4 pdfminer.six-20220524 pdfplumber-0.7.4\n"
     ]
    }
   ],
   "source": [
    "!pip install pdfplumber"
   ]
  },
  {
   "cell_type": "code",
   "execution_count": 10,
   "id": "02c54b01",
   "metadata": {},
   "outputs": [],
   "source": [
    "# libraries\n",
    "\n",
    "import pandas as pd\n",
    "import pdfplumber\n",
    "import PyPDF2"
   ]
  },
  {
   "cell_type": "code",
   "execution_count": 39,
   "id": "4d995152",
   "metadata": {},
   "outputs": [
    {
     "name": "stdout",
     "output_type": "stream",
     "text": [
      "{}\n",
      "\n",
      "[]\n"
     ]
    }
   ],
   "source": [
    "with pdfplumber.open(r'invoices/pdf_trial1.pdf') as pdf:\n",
    "    print(pdf.metadata)\n",
    "    print(pdf.pages[0].extract_text())\n",
    "    first_page = pdf.pages[0]\n",
    "    print(first_page.chars)"
   ]
  },
  {
   "cell_type": "code",
   "execution_count": 41,
   "id": "98b7de3a",
   "metadata": {},
   "outputs": [
    {
     "name": "stdout",
     "output_type": "stream",
     "text": [
      "None\n"
     ]
    }
   ],
   "source": [
    "with pdfplumber.open(r'invoices/pdf_trial3.pdf') as pdf:\n",
    "    print(pdf.pages[0].extract_table())"
   ]
  },
  {
   "cell_type": "code",
   "execution_count": 32,
   "id": "7bb59032",
   "metadata": {},
   "outputs": [],
   "source": [
    "# read a pdf\n",
    "\n",
    "pdfObj = open('invoices/pdf_trial2.pdf', 'rb')\n",
    "pdfReader = PyPDF2.PdfFileReader(pdfObj)"
   ]
  },
  {
   "cell_type": "code",
   "execution_count": 33,
   "id": "aa64dbf7",
   "metadata": {},
   "outputs": [
    {
     "data": {
      "text/plain": [
       "''"
      ]
     },
     "execution_count": 33,
     "metadata": {},
     "output_type": "execute_result"
    }
   ],
   "source": [
    "# create page object and extract text\n",
    "\n",
    "pageObj = pdfReader.getPage(0)\n",
    "page1 = pageObj.extractText()\n",
    "page1"
   ]
  },
  {
   "cell_type": "markdown",
   "id": "76a904e8",
   "metadata": {},
   "source": [
    "## some (many?) pdf invoices cannot be processed using pdf tools \n",
    "### need for OCR\n"
   ]
  },
  {
   "cell_type": "markdown",
   "id": "c1a030e0",
   "metadata": {},
   "source": [
    "### tesseract"
   ]
  }
 ],
 "metadata": {
  "kernelspec": {
   "display_name": "Python 3",
   "language": "python",
   "name": "python3"
  },
  "language_info": {
   "codemirror_mode": {
    "name": "ipython",
    "version": 3
   },
   "file_extension": ".py",
   "mimetype": "text/x-python",
   "name": "python",
   "nbconvert_exporter": "python",
   "pygments_lexer": "ipython3",
   "version": "3.8.8"
  }
 },
 "nbformat": 4,
 "nbformat_minor": 5
}
