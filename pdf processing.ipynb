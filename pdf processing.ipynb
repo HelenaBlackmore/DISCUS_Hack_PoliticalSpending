{
 "cells": [
  {
   "cell_type": "markdown",
<<<<<<< HEAD
   "id": "31b1ead5",
=======
   "id": "761dd6f4",
>>>>>>> 957fa48124fb4e98c0f71dff46bd0ef9c5242727
   "metadata": {},
   "source": [
    "# pdf to df"
   ]
  },
  {
   "cell_type": "code",
<<<<<<< HEAD
   "execution_count": 10,
   "id": "5a697ab8",
=======
   "execution_count": 2,
   "id": "a2ddf79a",
   "metadata": {
    "collapsed": true
   },
   "outputs": [
    {
     "name": "stdout",
     "output_type": "stream",
     "text": [
      "Collecting PyPDF2\n",
      "  Downloading PyPDF2-2.7.0-py3-none-any.whl (202 kB)\n",
      "Requirement already satisfied: typing-extensions in c:\\users\\helena\\anaconda3\\lib\\site-packages (from PyPDF2) (3.7.4.3)\n",
      "Installing collected packages: PyPDF2\n",
      "Successfully installed PyPDF2-2.7.0\n"
     ]
    }
   ],
   "source": [
    "!pip install PyPDF2"
   ]
  },
  {
   "cell_type": "code",
   "execution_count": 9,
   "id": "3c1da245",
   "metadata": {
    "collapsed": true
   },
   "outputs": [
    {
     "name": "stdout",
     "output_type": "stream",
     "text": [
      "Collecting pdfplumber\n",
      "  Downloading pdfplumber-0.7.4-py3-none-any.whl (40 kB)\n",
      "Collecting Wand>=0.6.7\n",
      "  Downloading Wand-0.6.8-py2.py3-none-any.whl (142 kB)\n",
      "Collecting Pillow>=9.1\n",
      "  Downloading Pillow-9.2.0-cp38-cp38-win_amd64.whl (3.3 MB)\n",
      "Collecting pdfminer.six==20220524\n",
      "  Downloading pdfminer.six-20220524-py3-none-any.whl (5.6 MB)\n",
      "Collecting cryptography>=36.0.0\n",
      "  Downloading cryptography-37.0.4-cp36-abi3-win_amd64.whl (2.4 MB)\n",
      "Requirement already satisfied: charset-normalizer>=2.0.0 in c:\\users\\helena\\anaconda3\\lib\\site-packages (from pdfminer.six==20220524->pdfplumber) (2.0.12)\n",
      "Requirement already satisfied: cffi>=1.12 in c:\\users\\helena\\anaconda3\\lib\\site-packages (from cryptography>=36.0.0->pdfminer.six==20220524->pdfplumber) (1.14.5)\n",
      "Requirement already satisfied: pycparser in c:\\users\\helena\\anaconda3\\lib\\site-packages (from cffi>=1.12->cryptography>=36.0.0->pdfminer.six==20220524->pdfplumber) (2.20)\n",
      "Installing collected packages: cryptography, Wand, Pillow, pdfminer.six, pdfplumber\n",
      "  Attempting uninstall: cryptography\n",
      "    Found existing installation: cryptography 3.4.7\n",
      "    Uninstalling cryptography-3.4.7:\n",
      "      Successfully uninstalled cryptography-3.4.7\n",
      "  Attempting uninstall: Pillow\n",
      "    Found existing installation: Pillow 8.2.0\n",
      "    Uninstalling Pillow-8.2.0:\n",
      "      Successfully uninstalled Pillow-8.2.0\n",
      "Successfully installed Pillow-9.2.0 Wand-0.6.8 cryptography-37.0.4 pdfminer.six-20220524 pdfplumber-0.7.4\n"
     ]
    }
   ],
   "source": [
    "!pip install pdfplumber"
   ]
  },
  {
   "cell_type": "code",
   "execution_count": 10,
   "id": "02c54b01",
>>>>>>> 957fa48124fb4e98c0f71dff46bd0ef9c5242727
   "metadata": {},
   "outputs": [],
   "source": [
    "# libraries\n",
    "\n",
<<<<<<< HEAD
    "# import pandas as pd\n",
    "# import pdfplumber\n",
    "# import PyPDF2"
=======
    "import pandas as pd\n",
    "import pdfplumber\n",
    "import PyPDF2"
>>>>>>> 957fa48124fb4e98c0f71dff46bd0ef9c5242727
   ]
  },
  {
   "cell_type": "code",
   "execution_count": 39,
<<<<<<< HEAD
   "id": "591319ee",
=======
   "id": "4d995152",
>>>>>>> 957fa48124fb4e98c0f71dff46bd0ef9c5242727
   "metadata": {},
   "outputs": [
    {
     "name": "stdout",
     "output_type": "stream",
     "text": [
      "{}\n",
      "\n",
      "[]\n"
     ]
    }
   ],
   "source": [
<<<<<<< HEAD
    "# with pdfplumber.open(r'invoices/pdf_trial1.pdf') as pdf:\n",
    "#     print(pdf.metadata)\n",
    "#     print(pdf.pages[0].extract_text())\n",
    "#     first_page = pdf.pages[0]\n",
    "#     print(first_page.chars)"
=======
    "with pdfplumber.open(r'invoices/pdf_trial1.pdf') as pdf:\n",
    "    print(pdf.metadata)\n",
    "    print(pdf.pages[0].extract_text())\n",
    "    first_page = pdf.pages[0]\n",
    "    print(first_page.chars)"
>>>>>>> 957fa48124fb4e98c0f71dff46bd0ef9c5242727
   ]
  },
  {
   "cell_type": "code",
   "execution_count": 41,
<<<<<<< HEAD
   "id": "8b56fe98",
=======
   "id": "98b7de3a",
>>>>>>> 957fa48124fb4e98c0f71dff46bd0ef9c5242727
   "metadata": {},
   "outputs": [
    {
     "name": "stdout",
     "output_type": "stream",
     "text": [
      "None\n"
     ]
    }
   ],
   "source": [
<<<<<<< HEAD
    "# with pdfplumber.open(r'invoices/pdf_trial3.pdf') as pdf:\n",
    "#     print(pdf.pages[0].extract_table())"
=======
    "with pdfplumber.open(r'invoices/pdf_trial3.pdf') as pdf:\n",
    "    print(pdf.pages[0].extract_table())"
>>>>>>> 957fa48124fb4e98c0f71dff46bd0ef9c5242727
   ]
  },
  {
   "cell_type": "code",
   "execution_count": 32,
<<<<<<< HEAD
   "id": "c52d0f56",
   "metadata": {},
   "outputs": [],
   "source": [
    "# # read a pdf\n",
    "\n",
    "# pdfObj = open('invoices/pdf_trial2.pdf', 'rb')\n",
    "# pdfReader = PyPDF2.PdfFileReader(pdfObj)"
=======
   "id": "7bb59032",
   "metadata": {},
   "outputs": [],
   "source": [
    "# read a pdf\n",
    "\n",
    "pdfObj = open('invoices/pdf_trial2.pdf', 'rb')\n",
    "pdfReader = PyPDF2.PdfFileReader(pdfObj)"
>>>>>>> 957fa48124fb4e98c0f71dff46bd0ef9c5242727
   ]
  },
  {
   "cell_type": "code",
   "execution_count": 33,
<<<<<<< HEAD
   "id": "6c3efa5b",
=======
   "id": "aa64dbf7",
>>>>>>> 957fa48124fb4e98c0f71dff46bd0ef9c5242727
   "metadata": {},
   "outputs": [
    {
     "data": {
      "text/plain": [
       "''"
      ]
     },
     "execution_count": 33,
     "metadata": {},
     "output_type": "execute_result"
    }
   ],
   "source": [
<<<<<<< HEAD
    "# # create page object and extract text\n",
    "\n",
    "# pageObj = pdfReader.getPage(0)\n",
    "# page1 = pageObj.extractText()\n",
    "# page1"
=======
    "# create page object and extract text\n",
    "\n",
    "pageObj = pdfReader.getPage(0)\n",
    "page1 = pageObj.extractText()\n",
    "page1"
>>>>>>> 957fa48124fb4e98c0f71dff46bd0ef9c5242727
   ]
  },
  {
   "cell_type": "markdown",
<<<<<<< HEAD
   "id": "e7e8e2db",
=======
   "id": "76a904e8",
>>>>>>> 957fa48124fb4e98c0f71dff46bd0ef9c5242727
   "metadata": {},
   "source": [
    "## some (many?) pdf invoices cannot be processed using pdf tools \n",
    "### need for OCR\n"
   ]
  },
  {
   "cell_type": "markdown",
<<<<<<< HEAD
   "id": "ab141073",
   "metadata": {},
   "source": [
    "### OCR using Tesseract\n",
    "\n",
    "- install Poppler, best in anaconda prompt/terminal\n",
    "    - conda install -c conda-forge poppler\n",
    "\n",
    "- download tesseract from here: https://github.com/UB-Mannheim/tesseract/wiki\n",
    "    - note path to tesseract.exe, usually in C:\\Program Files\\Tesseract-OCR\\tesseract.exe\n",
    "    \n",
    "1. libraries"
   ]
  },
  {
   "cell_type": "code",
   "execution_count": 1,
   "id": "d80c0f01",
   "metadata": {},
   "outputs": [],
   "source": [
    "from pdf2image import convert_from_path"
   ]
  },
  {
   "cell_type": "code",
   "execution_count": 5,
   "id": "cc74c5ab",
   "metadata": {},
   "outputs": [],
   "source": [
    "from PIL import Image\n",
    "from pytesseract import pytesseract"
   ]
  },
  {
   "cell_type": "markdown",
   "id": "09e97286",
   "metadata": {},
   "source": [
    "2. Convert pdf to an image (.jpg)"
   ]
  },
  {
   "cell_type": "code",
   "execution_count": 4,
   "id": "2a2ced7c",
   "metadata": {},
   "outputs": [],
   "source": [
    "pdfs = r\"invoices/pdf_trial2.pdf\"\n",
    "pages = convert_from_path(pdfs, 350)\n",
    "\n",
    "i = 1\n",
    "for page in pages:\n",
    "    image_name = \"Page_\" + str(i) + \".jpg\"  \n",
    "    page.save(image_name, \"JPEG\")\n",
    "    i = i+1 \n",
    "    "
   ]
  },
  {
   "cell_type": "markdown",
   "id": "aae15a66",
   "metadata": {},
   "source": [
    "3. Image to text"
   ]
  },
  {
   "cell_type": "code",
   "execution_count": 6,
   "id": "8824933b",
   "metadata": {},
   "outputs": [
    {
     "name": "stdout",
     "output_type": "stream",
     "text": [
      "e Brexit Party Organisaticn\n",
      "\n",
      "Date Item\n",
      "7-Nov-19 Manor House Single Bed & Breakfast\n",
      "7-Nov-19 Manor House Double Bed & Breakfast\n",
      "8-Nov-19 Manor House Single Bed & Breakfast\n",
      "8-Nov-19 Manor House Double Bed & Breakfast\n",
      "Deposit Due at 100%\n",
      "\n",
      "Proforma Number [i\n",
      "\n",
      "Page 1\n",
      "\n",
      "Date +Nov-i9\n",
      "\n",
      "Gross Rate Numbers\n",
      "\n",
      "£97.00 3\n",
      "£127.00 9\n",
      "£97.00 4\n",
      "£127.00 9\n",
      "\n",
      "Total\n",
      "£291.00\n",
      "£1,143.00\n",
      "£388.00\n",
      "£1,143.00\n",
      "\n",
      "£2,965.00\n",
      "\n",
      "To enable us to process your deposit payment efficiently, please quote the above\n",
      "pro forma reference number on all payments made to The Celtic Manor Resort\n",
      "\n",
      "surcharge bein Be n rd\n",
      "Please note This is Not a VAT Invoice\n",
      "\n",
      "To enabie you to pay us BACS we nave liste\n",
      "\n",
      "Cee\n",
      "\n"
     ]
    }
   ],
   "source": [
    "path_to_tesseract = r\"C:\\Program Files\\Tesseract-OCR\\tesseract.exe\"\n",
    "\n",
    "image_path = r\"Page_1.jpg\"\n",
    "\n",
    "# Opening the image & storing it in an image object\n",
    "img = Image.open(image_path)\n",
    "\n",
    "# Providing the tesseract\n",
    "# executable location to pytesseract library\n",
    "pytesseract.tesseract_cmd = path_to_tesseract\n",
    "\n",
    "# Passing the image object to\n",
    "# image_to_string() function\n",
    "# This function will\n",
    "# extract the text from the image\n",
    "text = pytesseract.image_to_string(img)\n",
    "\n",
    "# Displaying the extracted text\n",
    "print(text[:-1])\n"
=======
   "id": "c1a030e0",
   "metadata": {},
   "source": [
    "### tesseract"
>>>>>>> 957fa48124fb4e98c0f71dff46bd0ef9c5242727
   ]
  }
 ],
 "metadata": {
  "kernelspec": {
   "display_name": "Python 3",
   "language": "python",
   "name": "python3"
  },
  "language_info": {
   "codemirror_mode": {
    "name": "ipython",
    "version": 3
   },
   "file_extension": ".py",
   "mimetype": "text/x-python",
   "name": "python",
   "nbconvert_exporter": "python",
   "pygments_lexer": "ipython3",
   "version": "3.8.8"
  }
 },
 "nbformat": 4,
 "nbformat_minor": 5
}
