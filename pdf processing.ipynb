{
 "cells": [
  {
   "cell_type": "markdown",
   "id": "31b1ead5",
   "metadata": {},
   "source": [
    "# pdf to df"
   ]
  },
  {
   "cell_type": "code",
   "execution_count": 10,
   "id": "5a697ab8",
   "metadata": {},
   "outputs": [],
   "source": [
    "# libraries\n",
    "\n",
    "# import pandas as pd\n",
    "# import pdfplumber\n",
    "# import PyPDF2"
   ]
  },
  {
   "cell_type": "code",
   "execution_count": 39,
   "id": "591319ee",
   "metadata": {},
   "outputs": [
    {
     "name": "stdout",
     "output_type": "stream",
     "text": [
      "{}\n",
      "\n",
      "[]\n"
     ]
    }
   ],
   "source": [
    "# with pdfplumber.open(r'invoices/pdf_trial1.pdf') as pdf:\n",
    "#     print(pdf.metadata)\n",
    "#     print(pdf.pages[0].extract_text())\n",
    "#     first_page = pdf.pages[0]\n",
    "#     print(first_page.chars)"
   ]
  },
  {
   "cell_type": "code",
   "execution_count": 41,
   "id": "8b56fe98",
   "metadata": {},
   "outputs": [
    {
     "name": "stdout",
     "output_type": "stream",
     "text": [
      "None\n"
     ]
    }
   ],
   "source": [
    "# with pdfplumber.open(r'invoices/pdf_trial3.pdf') as pdf:\n",
    "#     print(pdf.pages[0].extract_table())"
   ]
  },
  {
   "cell_type": "code",
   "execution_count": 32,
   "id": "c52d0f56",
   "metadata": {},
   "outputs": [],
   "source": [
    "# # read a pdf\n",
    "\n",
    "# pdfObj = open('invoices/pdf_trial2.pdf', 'rb')\n",
    "# pdfReader = PyPDF2.PdfFileReader(pdfObj)"
   ]
  },
  {
   "cell_type": "code",
   "execution_count": 33,
   "id": "6c3efa5b",
   "metadata": {},
   "outputs": [
    {
     "data": {
      "text/plain": [
       "''"
      ]
     },
     "execution_count": 33,
     "metadata": {},
     "output_type": "execute_result"
    }
   ],
   "source": [
    "# # create page object and extract text\n",
    "\n",
    "# pageObj = pdfReader.getPage(0)\n",
    "# page1 = pageObj.extractText()\n",
    "# page1"
   ]
  },
  {
   "cell_type": "markdown",
   "id": "e7e8e2db",
   "metadata": {},
   "source": [
    "## some (many?) pdf invoices cannot be processed using pdf tools \n",
    "### need for OCR\n"
   ]
  },
  {
   "cell_type": "markdown",
   "id": "ab141073",
   "metadata": {},
   "source": [
    "### OCR using Tesseract\n",
    "\n",
    "- install Poppler, best in anaconda prompt/terminal\n",
    "    - conda install -c conda-forge poppler\n",
    "\n",
    "- download tesseract from here: https://github.com/UB-Mannheim/tesseract/wiki\n",
    "    - note path to tesseract.exe, usually in C:\\Program Files\\Tesseract-OCR\\tesseract.exe\n",
    "    \n",
    "1. libraries"
   ]
  },
  {
   "cell_type": "code",
   "execution_count": 1,
   "id": "d80c0f01",
   "metadata": {},
   "outputs": [],
   "source": [
    "from pdf2image import convert_from_path"
   ]
  },
  {
   "cell_type": "code",
   "execution_count": 5,
   "id": "cc74c5ab",
   "metadata": {},
   "outputs": [],
   "source": [
    "from PIL import Image\n",
    "from pytesseract import pytesseract"
   ]
  },
  {
   "cell_type": "markdown",
   "id": "09e97286",
   "metadata": {},
   "source": [
    "2. Convert pdf to an image (.jpg)"
   ]
  },
  {
   "cell_type": "code",
   "execution_count": 4,
   "id": "2a2ced7c",
   "metadata": {},
   "outputs": [],
   "source": [
    "pdfs = r\"invoices/pdf_trial2.pdf\"\n",
    "pages = convert_from_path(pdfs, 350)\n",
    "\n",
    "i = 1\n",
    "for page in pages:\n",
    "    image_name = \"Page_\" + str(i) + \".jpg\"  \n",
    "    page.save(image_name, \"JPEG\")\n",
    "    i = i+1 \n",
    "    "
   ]
  },
  {
   "cell_type": "markdown",
   "id": "aae15a66",
   "metadata": {},
   "source": [
    "3. Image to text"
   ]
  },
  {
   "cell_type": "code",
   "execution_count": 6,
   "id": "8824933b",
   "metadata": {},
   "outputs": [
    {
     "name": "stdout",
     "output_type": "stream",
     "text": [
      "e Brexit Party Organisaticn\n",
      "\n",
      "Date Item\n",
      "7-Nov-19 Manor House Single Bed & Breakfast\n",
      "7-Nov-19 Manor House Double Bed & Breakfast\n",
      "8-Nov-19 Manor House Single Bed & Breakfast\n",
      "8-Nov-19 Manor House Double Bed & Breakfast\n",
      "Deposit Due at 100%\n",
      "\n",
      "Proforma Number [i\n",
      "\n",
      "Page 1\n",
      "\n",
      "Date +Nov-i9\n",
      "\n",
      "Gross Rate Numbers\n",
      "\n",
      "£97.00 3\n",
      "£127.00 9\n",
      "£97.00 4\n",
      "£127.00 9\n",
      "\n",
      "Total\n",
      "£291.00\n",
      "£1,143.00\n",
      "£388.00\n",
      "£1,143.00\n",
      "\n",
      "£2,965.00\n",
      "\n",
      "To enable us to process your deposit payment efficiently, please quote the above\n",
      "pro forma reference number on all payments made to The Celtic Manor Resort\n",
      "\n",
      "surcharge bein Be n rd\n",
      "Please note This is Not a VAT Invoice\n",
      "\n",
      "To enabie you to pay us BACS we nave liste\n",
      "\n",
      "Cee\n",
      "\n"
     ]
    }
   ],
   "source": [
    "path_to_tesseract = r\"C:\\Program Files\\Tesseract-OCR\\tesseract.exe\"\n",
    "\n",
    "image_path = r\"Page_1.jpg\"\n",
    "\n",
    "# Opening the image & storing it in an image object\n",
    "img = Image.open(image_path)\n",
    "\n",
    "# Providing the tesseract\n",
    "# executable location to pytesseract library\n",
    "pytesseract.tesseract_cmd = path_to_tesseract\n",
    "\n",
    "# Passing the image object to\n",
    "# image_to_string() function\n",
    "# This function will\n",
    "# extract the text from the image\n",
    "text = pytesseract.image_to_string(img)\n",
    "\n",
    "# Displaying the extracted text\n",
    "print(text[:-1])\n"
   ]
  }
 ],
 "metadata": {
  "kernelspec": {
   "display_name": "Python 3",
   "language": "python",
   "name": "python3"
  },
  "language_info": {
   "codemirror_mode": {
    "name": "ipython",
    "version": 3
   },
   "file_extension": ".py",
   "mimetype": "text/x-python",
   "name": "python",
   "nbconvert_exporter": "python",
   "pygments_lexer": "ipython3",
   "version": "3.8.8"
  }
 },
 "nbformat": 4,
 "nbformat_minor": 5
}
